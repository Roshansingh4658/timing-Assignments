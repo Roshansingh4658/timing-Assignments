{
 "cells": [
  {
   "cell_type": "code",
   "execution_count": 2,
   "id": "056ef1fd-29ed-4153-9a69-1fadaaed3dad",
   "metadata": {},
   "outputs": [
    {
     "name": "stdout",
     "output_type": "stream",
     "text": [
      "[1, 1, 2, 3, 3, 4, 5, 5, 5, 6, 9]\n"
     ]
    }
   ],
   "source": [
    "def quicksort(arr):\n",
    "    if len(arr) <= 1:\n",
    "        return arr\n",
    "    pivot = arr[len(arr) // 2]\n",
    "    left = [x for x in arr if x < pivot]\n",
    "    middle = [x for x in arr if x == pivot]\n",
    "    right = [x for x in arr if x > pivot]\n",
    "    return quicksort(left) + middle + quicksort(right)\n",
    "\n",
    "arr = [3, 1, 4, 1, 5, 9, 2, 6, 5, 3, 5]\n",
    "sorted_arr = quicksort(arr)\n",
    "print(sorted_arr)\n"
   ]
  },
  {
   "cell_type": "code",
   "execution_count": 4,
   "id": "9efa890d-3096-4a5a-ac2f-dd5a47ae61a6",
   "metadata": {},
   "outputs": [
    {
     "name": "stdout",
     "output_type": "stream",
     "text": [
      "45\n"
     ]
    }
   ],
   "source": [
    "def nested_loop_example(matrix):\n",
    "    rows, cols = len(matrix), len(matrix[0])\n",
    "    total = 0\n",
    "    for i in range(rows):\n",
    "        for j in range(cols):\n",
    "            total += matrix[i][j]\n",
    "    return total\n",
    "\n",
    "# Example usage:\n",
    "matrix = [\n",
    "    [1, 2, 3],\n",
    "    [4, 5, 6],\n",
    "    [7, 8, 9]\n",
    "]\n",
    "print(nested_loop_example(matrix))  # Output: 45\n"
   ]
  },
  {
   "cell_type": "code",
   "execution_count": 5,
   "id": "c60d9297-baf3-4d87-9337-b1f33f0c485b",
   "metadata": {},
   "outputs": [
    {
     "name": "stdout",
     "output_type": "stream",
     "text": [
      "15\n"
     ]
    }
   ],
   "source": [
    "def example_function(arr):\n",
    "    result = 0\n",
    "    for element in arr:\n",
    "        result += element\n",
    "    return result\n",
    "arr = [1, 2, 3, 4, 5]\n",
    "print(example_function(arr))  # Output: 15\n",
    "\n",
    "\n"
   ]
  },
  {
   "cell_type": "code",
   "execution_count": 7,
   "id": "a0569803-ae70-42db-828a-d40720050941",
   "metadata": {},
   "outputs": [
    {
     "ename": "NameError",
     "evalue": "name 'longest_increasing_subsequence' is not defined",
     "output_type": "error",
     "traceback": [
      "\u001b[1;31m---------------------------------------------------------------------------\u001b[0m",
      "\u001b[1;31mNameError\u001b[0m                                 Traceback (most recent call last)",
      "Cell \u001b[1;32mIn[7], line 2\u001b[0m\n\u001b[0;32m      1\u001b[0m nums \u001b[38;5;241m=\u001b[39m [\u001b[38;5;241m10\u001b[39m, \u001b[38;5;241m22\u001b[39m, \u001b[38;5;241m9\u001b[39m, \u001b[38;5;241m33\u001b[39m, \u001b[38;5;241m21\u001b[39m, \u001b[38;5;241m50\u001b[39m, \u001b[38;5;241m41\u001b[39m, \u001b[38;5;241m60\u001b[39m, \u001b[38;5;241m80\u001b[39m]\n\u001b[1;32m----> 2\u001b[0m \u001b[38;5;28mprint\u001b[39m(longest_increasing_subsequence(nums))\n",
      "\u001b[1;31mNameError\u001b[0m: name 'longest_increasing_subsequence' is not defined"
     ]
    }
   ],
   "source": [
    "nums = [10, 22, 9, 33, 21, 50, 41, 60, 80]\n",
    "print(longest_increasing_subsequence(nums))  # Output: 6\n"
   ]
  },
  {
   "cell_type": "code",
   "execution_count": 8,
   "id": "f2c5524b-73f5-43dd-82c5-78c973f21b83",
   "metadata": {},
   "outputs": [
    {
     "name": "stdout",
     "output_type": "stream",
     "text": [
      "140\n"
     ]
    }
   ],
   "source": [
    "def mysterious_function(arr):\n",
    "    n = len(arr)\n",
    "    result = 0\n",
    "    for i in range(n):\n",
    "        for j in range(i, n):\n",
    "            result += arr[i] * arr[j]\n",
    "    return result\n",
    "\n",
    "arr = [1, 2, 3, 4, 5]\n",
    "print(mysterious_function(arr))\n"
   ]
  },
  {
   "cell_type": "code",
   "execution_count": 9,
   "id": "45be9f8c-2637-425d-9bb7-8f311297c1d3",
   "metadata": {},
   "outputs": [
    {
     "name": "stdout",
     "output_type": "stream",
     "text": [
      "6\n"
     ]
    }
   ],
   "source": [
    "def sum_of_digits(n):\n",
    "    if n < 10:\n",
    "        return n\n",
    "    else:\n",
    "        return n % 10 + sum_of_digits(n // 10)\n",
    "\n",
    "# Example usage:\n",
    "number = 123\n",
    "print(sum_of_digits(number))  # Output: 6\n"
   ]
  },
  {
   "cell_type": "code",
   "execution_count": 10,
   "id": "23850744-cbc3-4c54-b782-bb8ef5640fee",
   "metadata": {},
   "outputs": [
    {
     "name": "stdout",
     "output_type": "stream",
     "text": [
      "[0, 1, 1, 2, 3, 5]\n"
     ]
    }
   ],
   "source": [
    "def fibonacci_series(n):\n",
    "    if n <= 0:\n",
    "        return []\n",
    "    elif n == 1:\n",
    "        return [0]\n",
    "    elif n == 2:\n",
    "        return [0, 1]\n",
    "    else:\n",
    "        fib_series = fibonacci_series(n - 1)\n",
    "        fib_series.append(fib_series[-1] + fib_series[-2])\n",
    "        return fib_series\n",
    "\n",
    "# Example usage:\n",
    "n = 6\n",
    "print(fibonacci_series(n))  # Output: [0, 1, 1, 2, 3, 5]\n"
   ]
  },
  {
   "cell_type": "code",
   "execution_count": 11,
   "id": "e9447cce-378d-4207-b799-0d7010904c94",
   "metadata": {},
   "outputs": [
    {
     "name": "stdout",
     "output_type": "stream",
     "text": [
      "True\n"
     ]
    }
   ],
   "source": [
    "def subset_sum(nums, target_sum):\n",
    "    # Recursive function to check if there exists a subset with the given sum\n",
    "    def is_subset_with_sum(nums, target_sum, index):\n",
    "        # Base cases\n",
    "        if target_sum == 0:\n",
    "            return True\n",
    "        if index < 0 or target_sum < 0:\n",
    "            return False\n",
    "        \n",
    "        # Include the current element and recursively check for the remaining sum\n",
    "        include_current = is_subset_with_sum(nums, target_sum - nums[index], index - 1)\n",
    "        \n",
    "        # Exclude the current element and recursively check for the remaining sum\n",
    "        exclude_current = is_subset_with_sum(nums, target_sum, index - 1)\n",
    "        \n",
    "        # Return True if either of the cases is True\n",
    "        return include_current or exclude_current\n",
    "    \n",
    "    # Call the recursive function starting from the last index of the list\n",
    "    return is_subset_with_sum(nums, target_sum, len(nums) - 1)\n",
    "\n",
    "# Example usage:\n",
    "nums = [3, 34, 4, 12, 5, 2]\n",
    "target_sum = 9\n",
    "print(subset_sum(nums, target_sum))  # Output: True\n"
   ]
  },
  {
   "cell_type": "code",
   "execution_count": 12,
   "id": "ab2b5c25-2f4a-4e3f-9aa8-bbb9bf8a9280",
   "metadata": {},
   "outputs": [
    {
     "name": "stdout",
     "output_type": "stream",
     "text": [
      "True\n"
     ]
    }
   ],
   "source": [
    "def word_break(s, word_dict):\n",
    "    # Create a set from the word dictionary for faster lookup\n",
    "    word_set = set(word_dict)\n",
    "    \n",
    "    # Recursive function with memoization\n",
    "    def can_segment(s, start, memo):\n",
    "        # Base case: If the substring from 'start' to the end of the string is in the word set, return True\n",
    "        if start == len(s):\n",
    "            return True\n",
    "        \n",
    "        # If the result for the current start index is already calculated, return it from memoization\n",
    "        if start in memo:\n",
    "            return memo[start]\n",
    "        \n",
    "        # Check all possible substrings starting from the 'start' index\n",
    "        for end in range(start + 1, len(s) + 1):\n",
    "            if s[start:end] in word_set and can_segment(s, end, memo):\n",
    "                memo[start] = True\n",
    "                return True\n",
    "        \n",
    "        # If no valid segmentation is found, memoize the result as False and return False\n",
    "        memo[start] = False\n",
    "        return False\n",
    "    \n",
    "    # Initialize a memoization dictionary\n",
    "    memo = {}\n",
    "    \n",
    "    # Call the recursive function starting from the beginning of the string\n",
    "    return can_segment(s, 0, memo)\n",
    "\n",
    "# Example usage:\n",
    "s = \"leetcode\"\n",
    "word_dict = [\"leet\", \"code\"]\n",
    "print(word_break(s, word_dict))  # Output: True\n"
   ]
  },
  {
   "cell_type": "code",
   "execution_count": 14,
   "id": "167fa42f-e589-44d3-8942-dcd2f2d59bd3",
   "metadata": {},
   "outputs": [
    {
     "name": "stdout",
     "output_type": "stream",
     "text": [
      "['.Q..', '...Q', 'Q...', '..Q.']\n",
      "['..Q.', 'Q...', '...Q', '.Q..']\n"
     ]
    }
   ],
   "source": [
    "def is_safe(board, row, col):\n",
    "    # Check if there is a queen in the same column\n",
    "    for i in range(row):\n",
    "        if board[i][col] == 'Q':\n",
    "            return False\n",
    "    \n",
    "    # Check upper left diagonal\n",
    "    i, j = row - 1, col - 1\n",
    "    while i >= 0 and j >= 0:\n",
    "        if board[i][j] == 'Q':\n",
    "            return False\n",
    "        i -= 1\n",
    "        j -= 1\n",
    "    \n",
    "    # Check upper right diagonal\n",
    "    i, j = row - 1, col + 1\n",
    "    while i >= 0 and j < len(board):\n",
    "        if board[i][j] == 'Q':\n",
    "            return False\n",
    "        i -= 1\n",
    "        j += 1\n",
    "    \n",
    "    return True\n",
    "\n",
    "def solve_n_queens_util(n, row, board, solutions):\n",
    "    if row == n:\n",
    "        solutions.append([\"\".join(row) for row in board])\n",
    "        return\n",
    "    \n",
    "    for col in range(n):\n",
    "        if is_safe(board, row, col):\n",
    "            board[row][col] = 'Q'\n",
    "            solve_n_queens_util(n, row + 1, board, solutions)\n",
    "            board[row][col] = '.'  # Backtrack\n",
    "\n",
    "def solve_n_queens(n):\n",
    "    board = [['.' for _ in range(n)] for _ in range(n)]\n",
    "    solutions = []\n",
    "    solve_n_queens_util(n, 0, board, solutions)\n",
    "    return solutions\n",
    "\n",
    "# Example usage:\n",
    "n = 4\n",
    "solutions = solve_n_queens(n)\n",
    "for sol in solutions:\n",
    "    print(sol)\n"
   ]
  },
  {
   "cell_type": "code",
   "execution_count": null,
   "id": "bdaaa928-ce75-4050-8001-27db4516d30d",
   "metadata": {},
   "outputs": [],
   "source": []
  }
 ],
 "metadata": {
  "kernelspec": {
   "display_name": "Python 3 (ipykernel)",
   "language": "python",
   "name": "python3"
  },
  "language_info": {
   "codemirror_mode": {
    "name": "ipython",
    "version": 3
   },
   "file_extension": ".py",
   "mimetype": "text/x-python",
   "name": "python",
   "nbconvert_exporter": "python",
   "pygments_lexer": "ipython3",
   "version": "3.11.7"
  }
 },
 "nbformat": 4,
 "nbformat_minor": 5
}
